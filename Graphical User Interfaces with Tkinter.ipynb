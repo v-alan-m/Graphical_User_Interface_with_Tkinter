{
 "cells": [
  {
   "cell_type": "markdown",
   "metadata": {},
   "source": [
    "# Graphical User Interfaces with Tkinter"
   ]
  },
  {
   "cell_type": "markdown",
   "metadata": {},
   "source": [
    "## Setting up a GUI alongside widgets\n",
    "- Libraries\n",
    "    - tkinter\n",
    "    - sqlite3"
   ]
  },
  {
   "cell_type": "markdown",
   "metadata": {},
   "source": [
    "- tkinter creates:\n",
    "    - Windows\n",
    "    - Widgets"
   ]
  },
  {
   "cell_type": "code",
   "execution_count": null,
   "metadata": {},
   "outputs": [],
   "source": [
    "from tkinter import *\n",
    "\n",
    "# Create the window object\n",
    "window = Tk()\n",
    "\n",
    "# Generate a button widget\n",
    "# The 'button' will be assigned to 'window'\n",
    "# Label the button using the 'text' arguement\n",
    "b1 = Button(window, text=\"Execute\")\n",
    "\n",
    "''' \n",
    "Position 'button' within 'window' uisng pack() or grid()\n",
    "grid() allows for greater control of positioning\n",
    "'''\n",
    "b1.grid(row=0,column=0)\n",
    "\n",
    "# Data entry window\n",
    "d1 = Entry(window)\n",
    "d1.grid(row=0,column=1)\n",
    "\n",
    "# Text widget\n",
    "# Specify the size of the text box\n",
    "t1 = Text(window,height=1,width=20)\n",
    "t1.grid(row=0,column=2)\n",
    "\n",
    "'''\n",
    "Keep the window open until the window is closed.\n",
    "Otherwise, the window will open and the close immedately\n",
    "'''\n",
    "window.mainloop()"
   ]
  },
  {
   "cell_type": "markdown",
   "metadata": {},
   "source": [
    "## Connecting GUI widgets with callback functions\n",
    "- KM to miles converter"
   ]
  },
  {
   "cell_type": "code",
   "execution_count": null,
   "metadata": {},
   "outputs": [],
   "source": [
    "# The function will run on pressing pressing the button\n",
    "def km_to_miles():\n",
    "    pass"
   ]
  },
  {
   "cell_type": "code",
   "execution_count": null,
   "metadata": {},
   "outputs": [],
   "source": [
    "# This function is assigned to the command arguement to do so\n",
    "b1 = Button(window, text=\"Execute\", command=km_to_miles)"
   ]
  },
  {
   "cell_type": "code",
   "execution_count": null,
   "metadata": {},
   "outputs": [],
   "source": [
    "# Create a variable for the data entry\n",
    "d1_value = StringVar()\n",
    "# The variable will be feed into the function\n",
    "d1 = Entry(window, textvariable=d1_value)"
   ]
  },
  {
   "cell_type": "code",
   "execution_count": null,
   "metadata": {},
   "outputs": [],
   "source": [
    "# Convet d1.value into a useable python string using .get(), then into a float\n",
    "def km_to_miles():\n",
    "    miles_conv = float(d1_value.get()) * 1.6"
   ]
  },
  {
   "cell_type": "code",
   "execution_count": null,
   "metadata": {},
   "outputs": [],
   "source": [
    "# Enter the return of the function into the endof the text box\n",
    "    t1.insert(END, miles_conv)"
   ]
  },
  {
   "cell_type": "code",
   "execution_count": null,
   "metadata": {},
   "outputs": [],
   "source": [
    "# Run km_to_miles.py in terminal to run the GUI\n",
    "from tkinter import *\n",
    "\n",
    "# Create the window object\n",
    "window = Tk()\n",
    "\n",
    "# This function is assigned to the command arguement \n",
    "# The function will run on pressing pressing the button\n",
    "def km_to_miles():\n",
    "    miles_conv = float(d1_value.get()) * 1.6\n",
    "    t1.insert(END, miles_conv)  \n",
    "\n",
    "# Generate a button widget\n",
    "# The 'button' will be assigned to 'window'\n",
    "# Label the button using the 'text' arguement\n",
    "# This function is assigned to the command arguement to do so\n",
    "b1 = Button(window, text=\"Execute\", command=km_to_miles)\n",
    "\n",
    "''' \n",
    "Position 'button' within 'window' uisng pack() or grid()\n",
    "grid() allows for greater control of positioning\n",
    "'''\n",
    "b1.grid(row=0,column=0)\n",
    "\n",
    "# Create a variable for the data entry\n",
    "d1_value = StringVar()\n",
    "\n",
    "# The variable will be feed into the function\n",
    "d1 = Entry(window, textvariable=d1_value)\n",
    "d1.grid(row=0,column=1)\n",
    "\n",
    "# Text widget\n",
    "# Specify the size of the text box\n",
    "t1 = Text(window,height=1,width=20)\n",
    "t1.grid(row=0,column=2)\n",
    "\n",
    "'''\n",
    "Keep the window open until the window is closed.\n",
    "Otherwise, the window will open and the close immedately\n",
    "'''\n",
    "window.mainloop()"
   ]
  },
  {
   "cell_type": "code",
   "execution_count": null,
   "metadata": {},
   "outputs": [],
   "source": []
  }
 ],
 "metadata": {
  "kernelspec": {
   "display_name": "Python 3",
   "language": "python",
   "name": "python3"
  },
  "language_info": {
   "codemirror_mode": {
    "name": "ipython",
    "version": 3
   },
   "file_extension": ".py",
   "mimetype": "text/x-python",
   "name": "python",
   "nbconvert_exporter": "python",
   "pygments_lexer": "ipython3",
   "version": "3.7.4"
  }
 },
 "nbformat": 4,
 "nbformat_minor": 2
}
